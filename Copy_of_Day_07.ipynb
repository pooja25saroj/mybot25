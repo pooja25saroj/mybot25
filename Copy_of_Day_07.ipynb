{
  "nbformat": 4,
  "nbformat_minor": 0,
  "metadata": {
    "colab": {
      "provenance": [],
      "authorship_tag": "ABX9TyPP3c2vrVXiW4c3jeupnnFy",
      "include_colab_link": true
    },
    "kernelspec": {
      "name": "python3",
      "display_name": "Python 3"
    },
    "language_info": {
      "name": "python"
    }
  },
  "cells": [
    {
      "cell_type": "markdown",
      "metadata": {
        "id": "view-in-github",
        "colab_type": "text"
      },
      "source": [
        "<a href=\"https://colab.research.google.com/github/pooja25saroj/mybot25/blob/main/Copy_of_Day_07.ipynb\" target=\"_parent\"><img src=\"https://colab.research.google.com/assets/colab-badge.svg\" alt=\"Open In Colab\"/></a>"
      ]
    },
    {
      "cell_type": "code",
      "execution_count": null,
      "metadata": {
        "id": "0gXIWHYJMPwz"
      },
      "outputs": [],
      "source": []
    },
    {
      "cell_type": "markdown",
      "source": [
        "# **Weekly Project 1**"
      ],
      "metadata": {
        "id": "pU6ySTdjMT33"
      }
    },
    {
      "cell_type": "code",
      "source": [
        "# Step 1: Initialize task lists\n",
        "tasks = [\n",
        "    \"Introduction to Python\",\n",
        "    \"Basic Python Syntax and Using AI\",\n",
        "    \"Control Structures - IF ELSE and using AI\",\n",
        "    \"Control Structures - FOR LOOP and using AI\",\n",
        "    \"Working with Lists and Using AI\"\n",
        "]\n",
        "completed_tasks = []\n",
        "incomplete_tasks = []"
      ],
      "metadata": {
        "id": "OEJIR7TfRi2j"
      },
      "execution_count": null,
      "outputs": []
    },
    {
      "cell_type": "code",
      "source": [
        "# Step 2: Define functions to manage tasks\n",
        "def complete_task(task):\n",
        "    if task in tasks:\n",
        "        tasks.remove(task)\n",
        "        completed_tasks.append(task)\n",
        "        print(f\"Task '{task}' marked as complete.\")\n",
        "    else:\n",
        "        print(f\"Task '{task}' not found in checklist.\")\n",
        "\n",
        "def mark_incomplete(task):\n",
        "    if task in tasks:\n",
        "        tasks.remove(task)\n",
        "        incomplete_tasks.append(task)\n",
        "        print(f\"Task '{task}' marked as incomplete.\")\n",
        "    else:\n",
        "        print(f\"Task '{task}' not found in checklist.\")"
      ],
      "metadata": {
        "id": "25rbtL27Rp9Z"
      },
      "execution_count": null,
      "outputs": []
    },
    {
      "cell_type": "code",
      "source": [
        "# Step 3: Simulate a day with tasks\n",
        "print(\"Starting tasks:\", tasks)\n",
        "\n",
        "# Example task completions\n",
        "complete_task(\"Introduction to Python\")\n",
        "complete_task(\"Basic Python Syntax and Using AI\")\n",
        "complete_task(\"Control Structures - IF ELSE and using AI\")\n",
        "complete_task(\"Working with Lists and Using AI\")"
      ],
      "metadata": {
        "colab": {
          "base_uri": "https://localhost:8080/"
        },
        "id": "LQnL-Kb9Rv6s",
        "outputId": "da42c61e-9599-4ddd-ec39-cd24fdff5a8c"
      },
      "execution_count": null,
      "outputs": [
        {
          "output_type": "stream",
          "name": "stdout",
          "text": [
            "Starting tasks: ['Introduction to Python', 'Basic Python Syntax and Using AI', 'Control Structures - IF ELSE and using AI', 'Control Structures - FOR LOOP and using AI', 'Working with Lists and Using AI']\n",
            "Task 'Introduction to Python' marked as complete.\n",
            "Task 'Basic Python Syntax and Using AI' marked as complete.\n",
            "Task 'Control Structures - IF ELSE and using AI' marked as complete.\n",
            "Task 'Working with Lists and Using AI' marked as complete.\n"
          ]
        }
      ]
    },
    {
      "cell_type": "code",
      "source": [
        "# Step 4: Show final task lists\n",
        "print(\"\\nCompleted Tasks:\", completed_tasks)\n",
        "print(\"Incomplete Tasks:\", incomplete_tasks)"
      ],
      "metadata": {
        "colab": {
          "base_uri": "https://localhost:8080/"
        },
        "id": "tdTFCKyBR8VJ",
        "outputId": "a5f5776a-ba31-4cb7-854a-0698c4a5dd7a"
      },
      "execution_count": null,
      "outputs": [
        {
          "output_type": "stream",
          "name": "stdout",
          "text": [
            "\n",
            "Completed Tasks: ['Introduction to Python', 'Basic Python Syntax and Using AI', 'Control Structures - IF ELSE and using AI', 'Working with Lists and Using AI']\n",
            "Incomplete Tasks: []\n"
          ]
        }
      ]
    }
  ]
}